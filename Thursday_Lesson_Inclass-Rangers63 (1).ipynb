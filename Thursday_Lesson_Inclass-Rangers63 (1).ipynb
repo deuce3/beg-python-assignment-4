{
 "cells": [
  {
   "cell_type": "markdown",
   "metadata": {},
   "source": [
    "# Object-Oriented-Programming (OOP)"
   ]
  },
  {
   "cell_type": "markdown",
   "metadata": {},
   "source": [
    "## Tasks Today:\n",
    "\n",
    "   \n",
    "\n",
    "1) <b>Creating a Class (Initializing/Declaring)</b> <br>\n",
    "2) <b>Using a Class (Instantiating)</b> <br>\n",
    " &nbsp;&nbsp;&nbsp;&nbsp; a) Creating One Instance <br>\n",
    " &nbsp;&nbsp;&nbsp;&nbsp; b) Creating Multiple Instances <br>\n",
    " &nbsp;&nbsp;&nbsp;&nbsp; c) In-Class Exercise #1 - Create a Class 'Car' and instantiate three different makes of cars <br>\n",
    "3) <b>The \\__init\\__() Method</b> <br>\n",
    " &nbsp;&nbsp;&nbsp;&nbsp; a) The 'self' Attribute <br>\n",
    "4) <b>Class Attributes</b> <br>\n",
    " &nbsp;&nbsp;&nbsp;&nbsp; a) Initializing Attributes <br>\n",
    " &nbsp;&nbsp;&nbsp;&nbsp; b) Setting an Attribute Outside of the \\__init\\__() Method <br>\n",
    " &nbsp;&nbsp;&nbsp;&nbsp; c) Setting Defaults for Attributes <br>\n",
    " &nbsp;&nbsp;&nbsp;&nbsp; d) Accessing Class Attributes <br>\n",
    " &nbsp;&nbsp;&nbsp;&nbsp; e) Changing Class Attributes <br>\n",
    " &nbsp;&nbsp;&nbsp;&nbsp; f) In-Class Exercise #2 - Add a color and wheels attribute to your 'Car' class <br>\n",
    "5) <b>Class Methods</b> <br>\n",
    " &nbsp;&nbsp;&nbsp;&nbsp; a) Creating <br>\n",
    " &nbsp;&nbsp;&nbsp;&nbsp; b) Calling <br>\n",
    " &nbsp;&nbsp;&nbsp;&nbsp; c) Modifying an Attribute's Value Through a Method <br>\n",
    " &nbsp;&nbsp;&nbsp;&nbsp; d) Incrementing an Attribute's Value Through a Method <br>\n",
    " &nbsp;&nbsp;&nbsp;&nbsp; e) In-Class Exercise #3 - Add a method that prints the cars color and wheel number, then call them <br>\n",
    "6) <b>Inheritance</b> <br>\n",
    " &nbsp;&nbsp;&nbsp;&nbsp; a) Syntax for Inheriting from a Parent Class <br>\n",
    " &nbsp;&nbsp;&nbsp;&nbsp; b) The \\__init\\__() Method for a Child Class (super()) <br>\n",
    " &nbsp;&nbsp;&nbsp;&nbsp; c) Defining Attributes and Methods for the Child Class <br>\n",
    " &nbsp;&nbsp;&nbsp;&nbsp; d) Method Overriding <br>\n",
    " &nbsp;&nbsp;&nbsp;&nbsp; e) In-Class Exercise #4 - Create a class 'Ford' that inherits from 'Car' class and initialize it as a Blue Ford Explorer with 4 wheels using the super() method <br>\n",
    "7) <b>Classes as Attributes</b> <br>\n",
    "8) <b>Exercises</b> <br>\n",
    " &nbsp;&nbsp;&nbsp;&nbsp; a) Exercise #1 - Turn the shopping cart program from yesterday into an object-oriented program <br>"
   ]
  },
  {
   "cell_type": "markdown",
   "metadata": {},
   "source": [
    "## Creating a Class (Initializing/Declaring)\n",
    "<p>When creating a class, function, or even a variable you are initializing that object. Initializing and Declaring occur at the same time in Python, whereas in lower level languages you have to declare an object before initializing it. This is the first step in the process of using a class.</p>"
   ]
  },
  {
   "cell_type": "code",
   "execution_count": 24,
   "metadata": {},
   "outputs": [
    {
     "name": "stdout",
     "output_type": "stream",
     "text": [
      "LX\n",
      "4\n",
      "Headlights on\n"
     ]
    }
   ],
   "source": [
    "class Car():\n",
    "    wheels = 4\n",
    "    color = 'blue'\n",
    "    \n",
    "    def __init__(self, trim):\n",
    "        self.trim = trim\n",
    "    \n",
    "    def headlights(self):\n",
    "        print(\"Headlights on\")\n",
    "        \n",
    "volkswagen = Car(\"LX\")\n",
    "print(volkswagen.trim)\n",
    "print(volkswagen.wheels)\n",
    "volkswagen.headlights()"
   ]
  },
  {
   "cell_type": "markdown",
   "metadata": {},
   "source": [
    "## Using a Class (Instantiating)\n",
    "<p>The process of creating a class is called <i>Instantiating</i>. Each time you create a variable of that type of class, it is referred to as an <i>Instance</i> of that class. This is the second step in the process of using a class.</p>"
   ]
  },
  {
   "cell_type": "markdown",
   "metadata": {},
   "source": [
    "##### Creating One Instance"
   ]
  },
  {
   "cell_type": "code",
   "execution_count": 2,
   "metadata": {},
   "outputs": [
    {
     "name": "stdout",
     "output_type": "stream",
     "text": [
      "blue\n"
     ]
    }
   ],
   "source": [
    "ford = Car()\n",
    "\n",
    "print(ford.color)"
   ]
  },
  {
   "cell_type": "markdown",
   "metadata": {},
   "source": [
    "##### Creating Multiple Instances"
   ]
  },
  {
   "cell_type": "code",
   "execution_count": 7,
   "metadata": {},
   "outputs": [],
   "source": [
    "chevy = Car()\n",
    "honda = Car()\n",
    "porsche = Car()"
   ]
  },
  {
   "cell_type": "markdown",
   "metadata": {},
   "source": [
    "##### In-Class Exercise #1 - Create a Class 'Car' and Instantiate three different makes of cars"
   ]
  },
  {
   "cell_type": "code",
   "execution_count": 17,
   "metadata": {},
   "outputs": [
    {
     "name": "stdout",
     "output_type": "stream",
     "text": [
      "4\n",
      "Red\n",
      "5\n"
     ]
    }
   ],
   "source": [
    "class Cars():\n",
    "    doors = 4\n",
    "    color = \"Red\"\n",
    "    wheels = 5\n",
    "    \n",
    "kia = Cars()\n",
    "lambo = Cars()\n",
    "tesla = Cars()\n",
    "\n",
    "print(kia.doors)\n",
    "print(lambo.color)\n",
    "print(tesla.wheels)"
   ]
  },
  {
   "cell_type": "markdown",
   "metadata": {},
   "source": [
    "## The \\__init\\__() Method <br>\n",
    "<p>This method is used in almost every created class, and called only once upon the creation of the class instance. This method will initialize all variables needed for the object.</p>"
   ]
  },
  {
   "cell_type": "code",
   "execution_count": 26,
   "metadata": {},
   "outputs": [
    {
     "name": "stdout",
     "output_type": "stream",
     "text": [
      "Red\n",
      "6\n"
     ]
    }
   ],
   "source": [
    "class Vehicle():\n",
    "    engine = \"4.7L\" #Global variable within class\n",
    "    \n",
    "    def __init__(self, color, wheels):\n",
    "        self.color = color\n",
    "        self.wheels = wheels\n",
    "        \n",
    "mazda = Vehicle(\"Red\", 4)\n",
    "honda = Vehicle(\"Black\", 6)\n",
    "print(mazda.color)\n",
    "print(honda.wheels)\n"
   ]
  },
  {
   "cell_type": "markdown",
   "metadata": {},
   "source": [
    "##### The 'self' Attribute <br>\n",
    "<p>This attribute is required to keep track of specific instance's attributes. Without the self attribute, the program would not know how to reference or keep track of an instance's attributes.</p>"
   ]
  },
  {
   "cell_type": "code",
   "execution_count": null,
   "metadata": {},
   "outputs": [],
   "source": [
    "# see above"
   ]
  },
  {
   "cell_type": "markdown",
   "metadata": {},
   "source": [
    "## Class Attributes <br>\n",
    "<p>While variables are inside of a class, they are referred to as attributes and not variables. When someone says 'attribute' you know they're speaking about a class. Attributes can be initialized through the init method, or outside of it.</p>"
   ]
  },
  {
   "cell_type": "markdown",
   "metadata": {},
   "source": [
    "##### Initializing Attributes"
   ]
  },
  {
   "cell_type": "code",
   "execution_count": 28,
   "metadata": {},
   "outputs": [],
   "source": [
    "# see above\n",
    "class Toy():\n",
    "    kind = \"car\" #constant variable\n",
    "    \n",
    "    def __init__(self, rooftop, horn, wheels):\n",
    "        self.rooftop = rooftop\n",
    "        self.horn = horn\n",
    "        self.wheels = wheels\n",
    "        \n",
    "truck = Toy(1, 1, 4)\n",
    "hotwheels = Toy(2, 4, 8)"
   ]
  },
  {
   "cell_type": "markdown",
   "metadata": {},
   "source": [
    "##### Accessing Class Attributes"
   ]
  },
  {
   "cell_type": "code",
   "execution_count": 32,
   "metadata": {
    "scrolled": true
   },
   "outputs": [
    {
     "data": {
      "text/plain": [
       "4"
      ]
     },
     "execution_count": 32,
     "metadata": {},
     "output_type": "execute_result"
    }
   ],
   "source": [
    "# See Above\n",
    "truck.rooftop\n",
    "hotwheels.horn"
   ]
  },
  {
   "cell_type": "markdown",
   "metadata": {},
   "source": [
    "##### Setting Defaults for Attributes"
   ]
  },
  {
   "cell_type": "code",
   "execution_count": 35,
   "metadata": {},
   "outputs": [
    {
     "data": {
      "text/plain": [
       "'Blue'"
      ]
     },
     "execution_count": 35,
     "metadata": {},
     "output_type": "execute_result"
    }
   ],
   "source": [
    "class Car():\n",
    "    engine = \"4.75L\" #Constant\n",
    "    \n",
    "    def __init__(self, wheels):\n",
    "        self.wheels = wheels\n",
    "        self.color = \"Blue\"\n",
    "\n",
    "honda = Car(4)\n",
    "honda.color"
   ]
  },
  {
   "cell_type": "markdown",
   "metadata": {},
   "source": [
    "##### Changing Class Attributes <br>\n",
    "<p>Keep in mind there are global class attributes and then there are attributes only available to each class instance which won't effect other classes.</p>"
   ]
  },
  {
   "cell_type": "code",
   "execution_count": 38,
   "metadata": {},
   "outputs": [
    {
     "name": "stdout",
     "output_type": "stream",
     "text": [
      "Before change: Blue\n",
      "After change: white\n"
     ]
    }
   ],
   "source": [
    "jeep = Car(4)\n",
    "print(f\"Before change: {jeep.color}\")\n",
    "jeep.color = \"white\"\n",
    "print(f\"After change: {jeep.color}\")\n"
   ]
  },
  {
   "cell_type": "code",
   "execution_count": null,
   "metadata": {},
   "outputs": [],
   "source": []
  },
  {
   "cell_type": "markdown",
   "metadata": {},
   "source": [
    "##### In-Class Exercise #2 - Add a doors and seats attribute to your 'Car' class then print out two different instances with different doors and seats"
   ]
  },
  {
   "cell_type": "code",
   "execution_count": 39,
   "metadata": {},
   "outputs": [
    {
     "name": "stdout",
     "output_type": "stream",
     "text": [
      "4\n",
      "5\n",
      "8\n",
      "10\n"
     ]
    }
   ],
   "source": [
    "class Car():\n",
    "    def __init__(self, doors, seats):\n",
    "        self.doors = doors\n",
    "        self.seats = seats\n",
    "        self.color = \"White\"\n",
    "        self.wheels = 4\n",
    "\n",
    "kia = Car(4, 5)\n",
    "toyota = Car(8, 10)\n",
    "\n",
    "print(kia.doors)\n",
    "print(kia.seats)\n",
    "print(toyota.doors)\n",
    "print(toyota.seats)"
   ]
  },
  {
   "cell_type": "markdown",
   "metadata": {},
   "source": [
    "## Class Methods <br>\n",
    "<p>While inside of a class, functions are referred to as 'methods'. If you hear someone mention methods, they're speaking about classes. Methods are essentially functions, but only callable on the instances of a class.</p>"
   ]
  },
  {
   "cell_type": "markdown",
   "metadata": {},
   "source": [
    "##### Creating"
   ]
  },
  {
   "cell_type": "code",
   "execution_count": 51,
   "metadata": {},
   "outputs": [],
   "source": [
    "class ShoppingBag():\n",
    "    \"\"\"\n",
    "        \n",
    "    \"\"\"\n",
    "    \n",
    "    def __init__(self, handles, capacity, items):\n",
    "        self.handles = handles\n",
    "        self.capacity = capacity\n",
    "        self.items = items\n",
    "        \n",
    "    def showShoppingBag(self):\n",
    "        print(\"You have items in your bag\")\n",
    "        for item in self.items:\n",
    "            print(item)\n",
    "    \n",
    "    def showCapacity(self):\n",
    "        print(f\"Your capacity is: {self.capacity}\")\n",
    "        \n",
    "    def addToShoppingBag(self):\n",
    "        products = input(\"What would you like to add? \")\n",
    "        self.items.append(products)\n",
    "        \n",
    "    def changeBagCapacity(self, capacity):\n",
    "        self.capacity = capacity\n",
    "        \n",
    "    def increaseCapacity(self, changedCapacity = 10):\n",
    "        if self.capacity == isinstance(self.capacity, str):\n",
    "            print(\"We can't add that here\")\n",
    "        else:\n",
    "            self.capacity += changedCapacity"
   ]
  },
  {
   "cell_type": "markdown",
   "metadata": {},
   "source": [
    "##### Calling"
   ]
  },
  {
   "cell_type": "code",
   "execution_count": 52,
   "metadata": {},
   "outputs": [
    {
     "name": "stdout",
     "output_type": "stream",
     "text": [
      "What do you want to do? Add/Show/QuitAdd\n",
      "What would you like to add? Grapes\n",
      "What do you want to do? Add/Show/QuitAdd\n",
      "What would you like to add? Water\n",
      "What do you want to do? Add/Show/QuitShow\n",
      "You have items in your bag\n",
      "Grapes\n",
      "Water\n",
      "What do you want to do? Add/Show/QuitQuit\n",
      "You have items in your bag\n",
      "Grapes\n",
      "Water\n",
      "Thanks for shopping\n"
     ]
    }
   ],
   "source": [
    "# See Above\n",
    "\n",
    "wholeFoods_bag = ShoppingBag(2, 10, [])\n",
    "\n",
    "def run():\n",
    "    while True:\n",
    "        response = input(\"What do you want to do? Add/Show/Quit\")\n",
    "\n",
    "        if response.lower() == \"quit\":\n",
    "            wholeFoods_bag.showShoppingBag()\n",
    "            print(\"Thanks for shopping\")\n",
    "            break\n",
    "        elif response.lower() == \"add\":\n",
    "            wholeFoods_bag.addToShoppingBag()\n",
    "        elif response.lower() == \"show\":\n",
    "            wholeFoods_bag.showShoppingBag()\n",
    "        else:\n",
    "            print(\"Try another command\")\n",
    "            \n",
    "run()"
   ]
  },
  {
   "cell_type": "markdown",
   "metadata": {},
   "source": [
    "##### Modifying an Attribute's Value Through a Method"
   ]
  },
  {
   "cell_type": "code",
   "execution_count": 54,
   "metadata": {},
   "outputs": [
    {
     "name": "stdout",
     "output_type": "stream",
     "text": [
      "Your capacity is: 40\n",
      "Capacity after this change: \n",
      "Your capacity is: 40\n"
     ]
    }
   ],
   "source": [
    "wholeFoods_bag.showCapacity()\n",
    "print(\"Capacity after this change: \")\n",
    "wholeFoods_bag.changeBagCapacity(40)\n",
    "wholeFoods_bag.showCapacity()\n",
    "    "
   ]
  },
  {
   "cell_type": "markdown",
   "metadata": {},
   "source": [
    "##### Incrementing an Attribute's Value Through a Method"
   ]
  },
  {
   "cell_type": "code",
   "execution_count": 55,
   "metadata": {},
   "outputs": [
    {
     "name": "stdout",
     "output_type": "stream",
     "text": [
      "Your capacity is: 40\n",
      "After increase\n",
      "Your capacity is: 50\n"
     ]
    }
   ],
   "source": [
    "wholeFoods_bag.showCapacity()\n",
    "print(\"After increase\")\n",
    "wholeFoods_bag.increaseCapacity()\n",
    "wholeFoods_bag.showCapacity()"
   ]
  },
  {
   "cell_type": "markdown",
   "metadata": {},
   "source": [
    "##### In-Class Exercise #3 - Add a method that takes in three parameters of year, doors and seats and prints out a formatted print statement with make, model, year, seats, and doors"
   ]
  },
  {
   "cell_type": "code",
   "execution_count": null,
   "metadata": {},
   "outputs": [],
   "source": [
    "# Create class with 2 paramters inside of the __init__ which are make and model\n",
    "\n",
    "# Inside of the Car class create a method that has 4 parameter in total (self,year,door,seats)\n",
    "\n",
    "# Output: This car is from 2019 and is a Ford Expolorer and has 4 doors and 5 seats\n",
    "\n"
   ]
  },
  {
   "cell_type": "markdown",
   "metadata": {},
   "source": [
    "## Inheritance <br>\n",
    "<p>You can create a child-parent relationship between two classes by using inheritance. What this allows you to do is have overriding methods, but also inherit traits from the parent class. Think of it as an actual parent and child, the child will inherit the parent's genes, as will the classes in OOP</p>"
   ]
  },
  {
   "cell_type": "markdown",
   "metadata": {},
   "source": [
    "##### Syntax for Inheriting from a Parent Class"
   ]
  },
  {
   "cell_type": "code",
   "execution_count": 75,
   "metadata": {},
   "outputs": [
    {
     "name": "stdout",
     "output_type": "stream",
     "text": [
      "Bark\n",
      "Make some generic sound\n",
      "None\n",
      "9.0\n"
     ]
    }
   ],
   "source": [
    "#Parent class\n",
    "class Animal():\n",
    "    acceleration = 9.0\n",
    "    \n",
    "    def __init__(self, name, species, legs = 4):\n",
    "        self.name = name\n",
    "        self.species = species\n",
    "        self.legs = legs\n",
    "        \n",
    "    def makeSound(self):\n",
    "        print(\"Make some generic sound\")\n",
    "        \n",
    "#Child class      \n",
    "class Dog(Animal):\n",
    "    speed = 15\n",
    "    \n",
    "    def printInfo(self):\n",
    "        print(f\"The Dog has {self.speed} mph is speed and {self.acceleration}\")\n",
    "        \n",
    "#Granchild class\n",
    "class Mutt(Animal):\n",
    "    color = \"Tan\"\n",
    "    \n",
    "    #Override the Animal class using the Dog class to overwrite the __init__ from Animal\n",
    "    def __init__(self, name, species, eye_color, legs = 4):\n",
    "        Dog.__init__(self, name, species, legs)\n",
    "        self.eye_color = eye_color\n",
    "        \n",
    "    #Overide the makeSOund method from Animal\n",
    "    def makeSound(self):\n",
    "        noise = \"Bark\"\n",
    "        return noise\n",
    "    \n",
    "lassie = Dog(\"Lassie\", \"Dog\")\n",
    "basic_animal = Animal(\"Generic animal name\", \"Generic Animal Species\")\n",
    "buster = Mutt(\"Buster\", \"Mut\", \"Brown\")\n",
    "\n",
    "print(buster.makeSound())\n",
    "print(lassie.makeSound())\n",
    "print(buster.acceleration)"
   ]
  },
  {
   "cell_type": "markdown",
   "metadata": {},
   "source": [
    "##### The \\__init\\__() Method for a Child Class - super()"
   ]
  },
  {
   "cell_type": "code",
   "execution_count": 76,
   "metadata": {
    "scrolled": true
   },
   "outputs": [
    {
     "name": "stdout",
     "output_type": "stream",
     "text": [
      "Bark\n",
      "Make some generic sound\n",
      "None\n",
      "9.0\n"
     ]
    }
   ],
   "source": [
    "class Puppy(Dog):\n",
    "    color = \"Black and Brown\"\n",
    "    \n",
    "    #Override Animal init\n",
    "    def __init__(self, name, species, eye_color, legs = 4):\n",
    "        super().__init__(name, species, legs)\n",
    "        self.eye_color = eye_color\n",
    "    \n",
    "    def makeSound(self):\n",
    "        noise = \"Bark\"\n",
    "        return noise\n",
    "    \n",
    "lassie = Dog(\"Lassie\", \"Dog\")\n",
    "basic_animal = Animal(\"Generic animal name\", \"Generic Animal Species\")\n",
    "buster = Mutt(\"Buster\", \"Mut\", \"Brown\")\n",
    "\n",
    "print(buster.makeSound())\n",
    "print(lassie.makeSound())\n",
    "print(buster.acceleration)"
   ]
  },
  {
   "cell_type": "markdown",
   "metadata": {},
   "source": [
    "##### Defining Attributes and Methods for the Child Class"
   ]
  },
  {
   "cell_type": "code",
   "execution_count": null,
   "metadata": {},
   "outputs": [],
   "source": [
    "# See Above"
   ]
  },
  {
   "cell_type": "markdown",
   "metadata": {},
   "source": [
    "##### Method Overriding"
   ]
  },
  {
   "cell_type": "code",
   "execution_count": null,
   "metadata": {},
   "outputs": [],
   "source": [
    "# See Above"
   ]
  },
  {
   "cell_type": "markdown",
   "metadata": {},
   "source": [
    "## Classes as Attributes <br>\n",
    "<p>Classes can also be used as attributes within another class. This is useful in situations where you need to keep variables locally stored, instead of globally stored.</p>"
   ]
  },
  {
   "cell_type": "code",
   "execution_count": 77,
   "metadata": {},
   "outputs": [
    {
     "name": "stdout",
     "output_type": "stream",
     "text": [
      "20\n"
     ]
    },
    {
     "data": {
      "text/plain": [
       "'2019 Tesla Model X 20'"
      ]
     },
     "execution_count": 77,
     "metadata": {},
     "output_type": "execute_result"
    }
   ],
   "source": [
    "class Battery():\n",
    "    volts = 7.8\n",
    "    \n",
    "    def __init__(self, cells):\n",
    "        self.cells = cells\n",
    "        \n",
    "class Car():\n",
    "    def __init__(self, year, make, model, battery):\n",
    "        self.year = year\n",
    "        self.make = make\n",
    "        self.model = model\n",
    "        self.battery = battery\n",
    "        \n",
    "    def printInfo(self):\n",
    "        return f\"{self.year} {self.make} {self.model} {self.battery.cells}\"\n",
    "    \n",
    "my_battery = Battery(20)\n",
    "\n",
    "tesla = Car(2019, \"Tesla\", \"Model X\", my_battery)\n",
    "\n",
    "print(tesla.battery.cells)\n",
    "tesla.printInfo()"
   ]
  },
  {
   "cell_type": "markdown",
   "metadata": {},
   "source": [
    "# Exercises"
   ]
  },
  {
   "cell_type": "markdown",
   "metadata": {},
   "source": [
    "### Exercise 1 - Turn the shopping cart program from yesterday into an object-oriented program\n",
    "\n",
    "The comments in the cell below are there as a guide for thinking about the problem. However, if you feel a different way is best for you and your own thought process, please do what feels best for you by all means."
   ]
  },
  {
   "cell_type": "code",
   "execution_count": 85,
   "metadata": {},
   "outputs": [
    {
     "name": "stdout",
     "output_type": "stream",
     "text": [
      "Press 1 - Add item to cart\n",
      "Press 2 - Remove item from cart\n",
      "Press 3 - View current shopping list\n",
      "Finished shopping? Type: quit\n",
      "Enter your choice: quit\n",
      "Completed Shopping List:\n",
      "Current Shopping List:\n",
      "Milk: 9\n",
      "Eggs: 8\n"
     ]
    }
   ],
   "source": [
    "# Create a class called cart that retains items and has methods to add, remove, and show\n",
    "from IPython.display import clear_output\n",
    "\n",
    "class Cart():\n",
    "    \n",
    "    def __init__(self, cart = {}):\n",
    "        self.cart = cart\n",
    "\n",
    "    # Ask the user four bits of input: Do you want to : Show/Add/Delete or Quit?\n",
    "    def show_shopping_list(self):\n",
    "        print(\"Current Shopping List:\")\n",
    "        for item, quantity in self.cart.items():\n",
    "            print(f\"{item}: {quantity}\")\n",
    "\n",
    "    def add_item(self):\n",
    "        item = input(\"Enter the item to add: \")\n",
    "        quantity = int(input(\"Enter the quantity: \"))\n",
    "        if item in self.cart:\n",
    "            self.cart[item] += quantity\n",
    "        else:\n",
    "            self.cart[item] = quantity\n",
    "        print(f\"{quantity} {item}(s) added to the cart.\")\n",
    "        clear_output()\n",
    "\n",
    "    def remove_item(self):\n",
    "        item = input(\"Enter the item to remove: \")\n",
    "        if item in self.cart:\n",
    "            quantity = int(input(f\"How many {item}(s) do you want to remove? \"))\n",
    "            if quantity >= self.cart[item]:\n",
    "                del self.cart[item]\n",
    "            else:\n",
    "                self.cart[item] -= quantity\n",
    "            print(f\"{quantity} {item}(s) removed from the cart.\")\n",
    "        else:\n",
    "            print(\"Item not found in the cart.\")\n",
    "        clear_output()\n",
    "\n",
    "    def run(self):\n",
    "        while True:\n",
    "            print(\"Press 1 - Add item to cart\")\n",
    "            print(\"Press 2 - Remove item from cart\")\n",
    "            print(\"Press 3 - View current shopping list\")\n",
    "            print(\"Finished shopping? Type: quit\")\n",
    "\n",
    "            choice = input(\"Enter your choice: \")\n",
    "\n",
    "            if choice.lower() == \"1\":\n",
    "                self.add_item()\n",
    "            elif choice.lower() == \"2\":\n",
    "                self.remove_item()\n",
    "            elif choice.lower() == \"3\":\n",
    "                self.show_shopping_list()\n",
    "            elif choice.lower() == \"quit\":\n",
    "                print(\"Completed Shopping List:\")\n",
    "                self.show_shopping_list()\n",
    "                break\n",
    "            else:\n",
    "                print(\"Invalid choice. Please try again.\")\n",
    "\n",
    "myCart = Cart()\n",
    "myCart.run()\n",
    "    "
   ]
  },
  {
   "cell_type": "markdown",
   "metadata": {},
   "source": [
    "### Exercise 2 - Write a Python class which has two methods get_String and print_String. get_String accept a string from the user and print_String print the string in upper case"
   ]
  },
  {
   "cell_type": "code",
   "execution_count": 65,
   "metadata": {},
   "outputs": [
    {
     "name": "stdout",
     "output_type": "stream",
     "text": [
      "Enter a word Hello\n",
      "HELLO\n"
     ]
    }
   ],
   "source": [
    "class MyString:\n",
    "    \n",
    "    def __init__(self, default = \"Enter a word\"):\n",
    "    \n",
    "    def get_String(self):\n",
    "        u_input = input(\"Enter a word \")\n",
    "        return u_input\n",
    "    \n",
    "    def print_String(self):\n",
    "        word = self.get_String().upper()\n",
    "        print(word)\n",
    "        \n",
    "myStringObj = MyString()\n",
    "myStringObj.print_String()"
   ]
  },
  {
   "cell_type": "code",
   "execution_count": null,
   "metadata": {},
   "outputs": [],
   "source": []
  }
 ],
 "metadata": {
  "kernelspec": {
   "display_name": "Python 3 (ipykernel)",
   "language": "python",
   "name": "python3"
  },
  "language_info": {
   "codemirror_mode": {
    "name": "ipython",
    "version": 3
   },
   "file_extension": ".py",
   "mimetype": "text/x-python",
   "name": "python",
   "nbconvert_exporter": "python",
   "pygments_lexer": "ipython3",
   "version": "3.10.9"
  }
 },
 "nbformat": 4,
 "nbformat_minor": 2
}
